{
 "cells": [
  {
   "cell_type": "markdown",
   "metadata": {},
   "source": [
    "# Fecha"
   ]
  },
  {
   "cell_type": "code",
   "execution_count": 5,
   "metadata": {},
   "outputs": [
    {
     "name": "stdout",
     "output_type": "stream",
     "text": [
      "Today is Date: 2022-02-10\n"
     ]
    }
   ],
   "source": [
    "from datetime import date\n",
    "print(\"Today is Date: \" + str(date.today()))"
   ]
  },
  {
   "cell_type": "markdown",
   "metadata": {},
   "source": [
    "# Convertidor"
   ]
  },
  {
   "cell_type": "code",
   "execution_count": 10,
   "metadata": {},
   "outputs": [
    {
     "name": "stdout",
     "output_type": "stream",
     "text": [
      "1 parsec is 3.26156 Ligghtyear\n",
      "11 parsec is 35.877159999999996 Ligghtyear\n"
     ]
    }
   ],
   "source": [
    "parsec = 1\n",
    "lightyear = 3.26156 \n",
    "print(str(parsec) + \" parsec is \" + str(lightyear)+\" Ligghtyear\")\n",
    "parsec1 = 11\n",
    "lightyear1 = 3.26156*parsec1 \n",
    "print(str(parsec1) + \" parsec is \" + str(lightyear1)+\" Ligghtyear\")"
   ]
  }
 ],
 "metadata": {
  "interpreter": {
   "hash": "763d3ce95e975010600dd73e1ca55c0902ebff50b95f8b3a1fc1b468a7a3530f"
  },
  "kernelspec": {
   "display_name": "Python 3.10.2 64-bit",
   "language": "python",
   "name": "python3"
  },
  "language_info": {
   "codemirror_mode": {
    "name": "ipython",
    "version": 3
   },
   "file_extension": ".py",
   "mimetype": "text/x-python",
   "name": "python",
   "nbconvert_exporter": "python",
   "pygments_lexer": "ipython3",
   "version": "3.10.2"
  },
  "orig_nbformat": 4
 },
 "nbformat": 4,
 "nbformat_minor": 2
}
