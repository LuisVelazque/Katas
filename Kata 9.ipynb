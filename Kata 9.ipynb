{
 "cells": [
  {
   "cell_type": "markdown",
   "metadata": {},
   "source": [
    "# Ejercicio 1"
   ]
  },
  {
   "cell_type": "code",
   "execution_count": 9,
   "metadata": {},
   "outputs": [
    {
     "name": "stdout",
     "output_type": "stream",
     "text": [
      " Reporte general de los tanques:\n",
      "    \n",
      "Promedio de los tanque en total: 53.333333333333336% \n",
      "Oxigeno en el primer tanque: 10% \n",
      "Oxigeno en el segundo tanque: 60%\n",
      "Oxigeno en el tercer tanque: 90%\n"
     ]
    }
   ],
   "source": [
    "def report(Tan1,tan2, tan3):\n",
    "    tanqP = (Tan1+tan2 + tan3) / 3\n",
    "    return f\"\"\" Reporte general de los tanques:\n",
    "    \\nPromedio de los tanque en total: {tanqP}% \\nOxigeno en el primer tanque: {Tan1}% \\nOxigeno en el segundo tanque: {tan2}%\n",
    "Oxigeno en el tercer tanque: {tan3}%\"\"\"\n",
    "print(report(10,60,90))\n"
   ]
  },
  {
   "cell_type": "code",
   "execution_count": 10,
   "metadata": {},
   "outputs": [
    {
     "data": {
      "text/plain": [
       "53.333333333333336"
      ]
     },
     "execution_count": 10,
     "metadata": {},
     "output_type": "execute_result"
    }
   ],
   "source": [
    "def prom(values):\n",
    "    total=sum(values)\n",
    "    Numt=len(values)\n",
    "    return total/ Numt\n",
    "prom([10,60,90])"
   ]
  },
  {
   "cell_type": "code",
   "execution_count": 11,
   "metadata": {},
   "outputs": [
    {
     "name": "stdout",
     "output_type": "stream",
     "text": [
      " Reporte general de los tanques:\n",
      "    \n",
      "Promedio de los tanque en total: 53.333333333333336% \n",
      "Oxigeno en el primer tanque: 10% \n",
      "Oxigeno en el segundo tanque: 60%\n",
      "Oxigeno en el tercer tanque: 90%\n"
     ]
    }
   ],
   "source": [
    "def report(Tan1,tan2, tan3):\n",
    "    return f\"\"\" Reporte general de los tanques:\n",
    "    \\nPromedio de los tanque en total: {prom([Tan1,tan2,tan3])}% \\nOxigeno en el primer tanque: {Tan1}% \\nOxigeno en el segundo tanque: {tan2}%\n",
    "Oxigeno en el tercer tanque: {tan3}%\"\"\"\n",
    "print(report(10,60,90))"
   ]
  },
  {
   "cell_type": "markdown",
   "metadata": {},
   "source": [
    "# Ejercicio 2"
   ]
  },
  {
   "cell_type": "code",
   "execution_count": 15,
   "metadata": {},
   "outputs": [
    {
     "name": "stdout",
     "output_type": "stream",
     "text": [
      "\n",
      "    Reporte de la Mision\n",
      "    --------------------------------------------------------------------------------\n",
      "    Destino de la Nave: jupiter\n",
      "    Tiempo total del viaje: 2200 minutos\n",
      "    Total de combustible: 7050 litros\n",
      "    \n"
     ]
    }
   ],
   "source": [
    "def report2(tiemPL,tiemV,Destino,TanqE,TanqP):\n",
    "    return f\"\"\"\n",
    "    Reporte de la Mision\n",
    "    {\"-\"*80}\n",
    "    Destino de la Nave: {Destino}\n",
    "    Tiempo total del viaje: {tiemPL + tiemV} minutos\n",
    "    Total de combustible: {TanqE + TanqP} litros\n",
    "    \"\"\"\n",
    "\n",
    "print(report2(200,2000,\"jupiter\",3650,3400))"
   ]
  },
  {
   "cell_type": "code",
   "execution_count": 26,
   "metadata": {},
   "outputs": [
    {
     "name": "stdout",
     "output_type": "stream",
     "text": [
      "\n",
      "     Reporte de la Mision\n",
      "    --------------------------------------------------------------------------------\n",
      "    Destino de la Nave: Marte\n",
      "    Tiempo total del viaje: 173 minutos\n",
      "    Total de combustible: 1290\n",
      "    Primer Tanque: 790 Litros\n",
      "Segundo Tanque: 500 Litros\n",
      "\n"
     ]
    }
   ],
   "source": [
    "def report2(destino2, *min, **comb):\n",
    "    RepoP = f\"\"\"\n",
    "     Reporte de la Mision\n",
    "    {\"-\"*80}\n",
    "    Destino de la Nave: {destino2}\n",
    "    Tiempo total del viaje: {sum(min)} minutos\n",
    "    Total de combustible: {sum(comb.values())}\n",
    "    \"\"\"\n",
    "    for TanqueR, Litros in comb.items():\n",
    "         RepoP += f\"{TanqueR} Tanque: {Litros} Litros\\n\"\n",
    "    return RepoP\n",
    "\n",
    "print(report2(\"Marte\", 56, 76, 41, Primer=790, Segundo=500))"
   ]
  }
 ],
 "metadata": {
  "interpreter": {
   "hash": "4b365654457b7681614b50e4af590f6b05e7cc59309633532bb21cdd5526222b"
  },
  "kernelspec": {
   "display_name": "Python 3.10.2 64-bit (windows store)",
   "language": "python",
   "name": "python3"
  },
  "language_info": {
   "codemirror_mode": {
    "name": "ipython",
    "version": 3
   },
   "file_extension": ".py",
   "mimetype": "text/x-python",
   "name": "python",
   "nbconvert_exporter": "python",
   "pygments_lexer": "ipython3",
   "version": "3.10.2"
  },
  "orig_nbformat": 4
 },
 "nbformat": 4,
 "nbformat_minor": 2
}
