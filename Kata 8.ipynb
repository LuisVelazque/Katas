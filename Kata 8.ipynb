{
 "cells": [
  {
   "cell_type": "markdown",
   "metadata": {},
   "source": [
    "# Ejercicio 1: Creacion dicionarios"
   ]
  },
  {
   "cell_type": "code",
   "execution_count": 1,
   "metadata": {},
   "outputs": [
    {
     "name": "stdout",
     "output_type": "stream",
     "text": [
      "Mars\n",
      "2\n"
     ]
    }
   ],
   "source": [
    "planet = {\n",
    "    \"name\" : \"Mars\",\n",
    "    \"number\" : 2\n",
    "}\n",
    "\n",
    "print(planet.get(\"name\"))\n",
    "print(planet.get(\"number\"))"
   ]
  },
  {
   "cell_type": "code",
   "execution_count": 4,
   "metadata": {},
   "outputs": [
    {
     "name": "stdout",
     "output_type": "stream",
     "text": [
      "Mars\n",
      "2\n",
      "6752\n"
     ]
    }
   ],
   "source": [
    "planet [\"Circuferencia\"]= {\n",
    "    \"polar\" : 6752,\n",
    "    \"equatorial\" : 6792\n",
    "\n",
    "}\n",
    "print(planet.get(\"name\"))\n",
    "print(planet.get(\"number\"))\n",
    "print(planet[\"Circuferencia :\"][\"polar\"])\n"
   ]
  },
  {
   "cell_type": "markdown",
   "metadata": {},
   "source": [
    "# Ejercicio 2\n"
   ]
  },
  {
   "cell_type": "code",
   "execution_count": 19,
   "metadata": {},
   "outputs": [],
   "source": [
    "planet_moons = {\n",
    "    'mercury': 0,\n",
    "    'venus': 0,\n",
    "    'earth': 1,\n",
    "    'mars': 2,\n",
    "    'jupiter': 79,\n",
    "    'saturn': 82,\n",
    "    'uranus': 27,\n",
    "    'neptune': 14,\n",
    "    'pluto': 5,\n",
    "    'haumea': 2,\n",
    "    'makemake': 1,\n",
    "    'eris': 1\n",
    "}\n",
    "luna = planet_moons.values()\n",
    "planet1 = len(planet_moons.keys())\n",
    "totalM = 0\n"
   ]
  },
  {
   "cell_type": "code",
   "execution_count": 20,
   "metadata": {},
   "outputs": [
    {
     "name": "stdout",
     "output_type": "stream",
     "text": [
      "17.833333333333332\n"
     ]
    }
   ],
   "source": [
    "\n",
    "\n",
    "for moon in luna :\n",
    "    totalM = totalM + moon\n",
    "prom = totalM / planet1\n",
    "\n",
    "print(prom)\n"
   ]
  }
 ],
 "metadata": {
  "interpreter": {
   "hash": "4b365654457b7681614b50e4af590f6b05e7cc59309633532bb21cdd5526222b"
  },
  "kernelspec": {
   "display_name": "Python 3.10.2 64-bit (windows store)",
   "language": "python",
   "name": "python3"
  },
  "language_info": {
   "codemirror_mode": {
    "name": "ipython",
    "version": 3
   },
   "file_extension": ".py",
   "mimetype": "text/x-python",
   "name": "python",
   "nbconvert_exporter": "python",
   "pygments_lexer": "ipython3",
   "version": "3.10.2"
  },
  "orig_nbformat": 4
 },
 "nbformat": 4,
 "nbformat_minor": 2
}
