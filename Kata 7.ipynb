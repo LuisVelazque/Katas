{
 "cells": [
  {
   "cell_type": "markdown",
   "metadata": {},
   "source": [
    "# Ejercicio 1: While"
   ]
  },
  {
   "cell_type": "code",
   "execution_count": 1,
   "metadata": {},
   "outputs": [],
   "source": [
    "new_planet = \"\"\n",
    "planet =[]\n",
    "\n",
    "while new_planet.lower()!=\"done\":\n",
    "    if new_planet:\n",
    "        planet.append(new_planet)\n",
    "    new_planet=input(\"Inserte los planetas,cuando desee dejar de inserta los planetas escriba done\")"
   ]
  },
  {
   "cell_type": "markdown",
   "metadata": {},
   "source": [
    "# Ejercicio 2: For"
   ]
  },
  {
   "cell_type": "code",
   "execution_count": 4,
   "metadata": {},
   "outputs": [
    {
     "name": "stdout",
     "output_type": "stream",
     "text": [
      "Lista de planetas insertados: \n",
      "mars\n",
      "venus\n",
      "earth\n",
      "jupyter\n"
     ]
    }
   ],
   "source": [
    "print(\"Lista de planetas insertados: \")\n",
    "for planeta in planet:\n",
    "    print(planeta)\n"
   ]
  }
 ],
 "metadata": {
  "interpreter": {
   "hash": "4b365654457b7681614b50e4af590f6b05e7cc59309633532bb21cdd5526222b"
  },
  "kernelspec": {
   "display_name": "Python 3.10.2 64-bit (windows store)",
   "language": "python",
   "name": "python3"
  },
  "language_info": {
   "codemirror_mode": {
    "name": "ipython",
    "version": 3
   },
   "file_extension": ".py",
   "mimetype": "text/x-python",
   "name": "python",
   "nbconvert_exporter": "python",
   "pygments_lexer": "ipython3",
   "version": "3.10.2"
  },
  "orig_nbformat": 4
 },
 "nbformat": 4,
 "nbformat_minor": 2
}
