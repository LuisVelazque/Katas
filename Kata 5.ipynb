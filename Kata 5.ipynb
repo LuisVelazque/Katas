{
 "cells": [
  {
   "cell_type": "markdown",
   "metadata": {},
   "source": [
    "# Ejercicios 1: Aritmeticos"
   ]
  },
  {
   "cell_type": "code",
   "execution_count": 8,
   "metadata": {},
   "outputs": [
    {
     "name": "stdout",
     "output_type": "stream",
     "text": [
      "Distancia entre los dos planetas: 628949330 km\n",
      "Distancia entre los dos planetas: 390577533.93 millas\n"
     ]
    }
   ],
   "source": [
    "disT = 149597870\n",
    "disJ = 778547200\n",
    "dT = disJ-disT\n",
    "print(\"Distancia entre los dos planetas: \"+str(dT)+\" km\")\n",
    "print(\"Distancia entre los dos planetas: \"+str(dT*0.621)+\" millas\")"
   ]
  },
  {
   "cell_type": "markdown",
   "metadata": {},
   "source": [
    "# Ejercicio 2: Conversion"
   ]
  },
  {
   "cell_type": "code",
   "execution_count": 17,
   "metadata": {},
   "outputs": [
    {
     "name": "stdout",
     "output_type": "stream",
     "text": [
      "Distancia entre los dos planetas: 23310 km\n",
      "Distancia entre los dos planetas: 14475.51 millas\n"
     ]
    }
   ],
   "source": [
    "dist1 =int(input(\"Inserte la primer distancia: \"))\n",
    "dist2 =int(input(\"Inserte la segunda distancia: \"))\n",
    "dt = dist1 - dist2\n",
    "print(\"Distancia entre los dos planetas: \"+str(abs(dt))+\" km\")\n",
    "\n",
    "print(\"Distancia entre los dos planetas: \"+str(abs(dt*0.621))+\" millas\")"
   ]
  }
 ],
 "metadata": {
  "interpreter": {
   "hash": "4b365654457b7681614b50e4af590f6b05e7cc59309633532bb21cdd5526222b"
  },
  "kernelspec": {
   "display_name": "Python 3.10.2 64-bit (windows store)",
   "language": "python",
   "name": "python3"
  },
  "language_info": {
   "codemirror_mode": {
    "name": "ipython",
    "version": 3
   },
   "file_extension": ".py",
   "mimetype": "text/x-python",
   "name": "python",
   "nbconvert_exporter": "python",
   "pygments_lexer": "ipython3",
   "version": "3.10.2"
  },
  "orig_nbformat": 4
 },
 "nbformat": 4,
 "nbformat_minor": 2
}
