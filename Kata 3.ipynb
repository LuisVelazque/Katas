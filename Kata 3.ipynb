{
 "cells": [
  {
   "cell_type": "markdown",
   "metadata": {},
   "source": [
    "# Problema 1"
   ]
  },
  {
   "cell_type": "code",
   "execution_count": 9,
   "metadata": {},
   "outputs": [
    {
     "name": "stdout",
     "output_type": "stream",
     "text": [
      "Se acerca un asteroide a: 100 Km/s Escondete\n"
     ]
    }
   ],
   "source": [
    "ast = 100\n",
    "if ast > 25:\n",
    "    print(\"Se acerca un asteroide a: \"+str(ast)+\" Km/s Escondete\")\n",
    "else:\n",
    "        print(\"No hay Problema\")"
   ]
  },
  {
   "cell_type": "markdown",
   "metadata": {},
   "source": [
    "# Problema 2"
   ]
  },
  {
   "cell_type": "code",
   "execution_count": 19,
   "metadata": {},
   "outputs": [
    {
     "name": "stdout",
     "output_type": "stream",
     "text": [
      "Destello por meteorito ingresando a la atmosfera voltea al cielo\n"
     ]
    }
   ],
   "source": [
    "ast = 19\n",
    "\n",
    "if ast < 20:\n",
    "    print(\"Destello por meteorito ingresando a la atmosfera voltea al cielo\")\n",
    "elif ast == 20:\n",
    "    print(\"Destello por meteorito ingresando a la atmosfera voltea al cielo\")\n",
    "else: \n",
    "    print (\"No hay Problema\")"
   ]
  },
  {
   "cell_type": "markdown",
   "metadata": {},
   "source": [
    "# Problema 3"
   ]
  },
  {
   "cell_type": "code",
   "execution_count": 24,
   "metadata": {},
   "outputs": [
    {
     "name": "stdout",
     "output_type": "stream",
     "text": [
      "Se acerca un asteroide a: 30 Km/s y de Dismesiones: 60 por favor de buscar Refugio\n"
     ]
    }
   ],
   "source": [
    "astv = 30\n",
    "astt = 60\n",
    "if astt > 25 and astv > 25 :\n",
    "    print(\"Se acerca un asteroide a: \"+str(astv)+\" Km/s y de Dismesiones: \"+str(astt)+\" por favor de buscar Refugio\")\n",
    "elif astv >= 20:\n",
    "    print(\"Destello por meteorito ingresando a la atmosfera voltea al cielo\")\n",
    "elif astt < 25:\n",
    "     print (\"No hay Problema asteoride Pequeño \")\n",
    "else: \n",
    "    print (\"No hay Problema\")"
   ]
  }
 ],
 "metadata": {
  "interpreter": {
   "hash": "763d3ce95e975010600dd73e1ca55c0902ebff50b95f8b3a1fc1b468a7a3530f"
  },
  "kernelspec": {
   "display_name": "Python 3.10.2 64-bit",
   "language": "python",
   "name": "python3"
  },
  "language_info": {
   "codemirror_mode": {
    "name": "ipython",
    "version": 3
   },
   "file_extension": ".py",
   "mimetype": "text/x-python",
   "name": "python",
   "nbconvert_exporter": "python",
   "pygments_lexer": "ipython3",
   "version": "3.10.2"
  },
  "orig_nbformat": 4
 },
 "nbformat": 4,
 "nbformat_minor": 2
}
