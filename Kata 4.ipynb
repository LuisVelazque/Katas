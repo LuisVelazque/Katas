{
 "cells": [
  {
   "cell_type": "markdown",
   "metadata": {},
   "source": [
    "# Ejercicio 1: Transformar Cadenas"
   ]
  },
  {
   "cell_type": "code",
   "execution_count": 6,
   "metadata": {},
   "outputs": [
    {
     "data": {
      "text/plain": [
       "['Interesting facts about the Moon',\n",
       " \"The Moon is Earth's only satellite\",\n",
       " 'There are several interesting facts about the Moon and how it affects life here on Earth',\n",
       " '\\nOn average, the Moon moves 4cm away from the Earth every year',\n",
       " 'This yearly drift is not significant enough to cause immediate effects on Earth',\n",
       " 'The highest']"
      ]
     },
     "execution_count": 6,
     "metadata": {},
     "output_type": "execute_result"
    }
   ],
   "source": [
    "textoP = \"\"\"Interesting facts about the Moon. The Moon is Earth's only satellite. There are several interesting facts about the Moon and how it affects life here on Earth. \n",
    "On average, the Moon moves 4cm away from the Earth every year. This yearly drift is not significant enough to cause immediate effects on Earth. The highest\"\"\"\n",
    "\n",
    "textoP = textoP.split('. ')\n",
    "textoP"
   ]
  },
  {
   "cell_type": "code",
   "execution_count": 7,
   "metadata": {},
   "outputs": [],
   "source": [
    "pal=[\"average\",\"distance\",\"temperature\"]"
   ]
  },
  {
   "cell_type": "code",
   "execution_count": 12,
   "metadata": {},
   "outputs": [
    {
     "name": "stdout",
     "output_type": "stream",
     "text": [
      "The Moon is Earth's only satellite\n",
      "There are several interesting facts about the Moon and how it affects life here on Earth\n",
      "\n",
      "On average, the Moon moves 4cm away from the Earth every year\n",
      "This yearly drift is not significant enough to cause immediate effects on Earth\n",
      "The highest\n"
     ]
    }
   ],
   "source": [
    "for item in textoP:\n",
    "    for pal in pal:\n",
    "        if pal in item:\n",
    "            print(item)\n",
    "            break"
   ]
  },
  {
   "cell_type": "code",
   "execution_count": 16,
   "metadata": {},
   "outputs": [
    {
     "name": "stdout",
     "output_type": "stream",
     "text": [
      "Interesting fa Celsius ts about the Moon\n",
      "The Moon is Earth's only satellite\n",
      "There are several interesting fa Celsius ts about the Moon and how it affe Celsius ts life here on Earth\n",
      "\n",
      "On average, the Moon moves 4 Celsius m away from the Earth every year\n",
      "This yearly drift is not signifi Celsius ant enough to  Celsius ause immediate effe Celsius ts on Earth\n",
      "The highest\n"
     ]
    }
   ],
   "source": [
    "for item in textoP:\n",
    "    for pal in pal:\n",
    "        if pal in item:\n",
    "            print(item.replace(\"c\",\" Celsius \"))\n",
    "            break"
   ]
  },
  {
   "cell_type": "markdown",
   "metadata": {},
   "source": [
    "# Ejercicio 2: Formatendo Cadena"
   ]
  },
  {
   "cell_type": "code",
   "execution_count": 17,
   "metadata": {},
   "outputs": [],
   "source": [
    "# Datos con los que vas a trabajar\n",
    "name = \"Moon\"\n",
    "gravity = 0.00162 # in kms\n",
    "planet = \"Earth\""
   ]
  },
  {
   "cell_type": "code",
   "execution_count": 85,
   "metadata": {},
   "outputs": [],
   "source": [
    "\n",
    "titulo =f\"Gravity Facts about: {name}\"\n"
   ]
  },
  {
   "cell_type": "code",
   "execution_count": 84,
   "metadata": {},
   "outputs": [],
   "source": [
    "plan =f\"\"\" {\"-\"* 80}\\nPlanet Name: {planet}\\nGravity on  {name}: {str(gravity * 1000)} +  m/s2\n",
    "\"\"\"\n"
   ]
  },
  {
   "cell_type": "code",
   "execution_count": 86,
   "metadata": {},
   "outputs": [
    {
     "name": "stdout",
     "output_type": "stream",
     "text": [
      "Gravity Facts About: Moon \n",
      " --------------------------------------------------------------------------------\n",
      "Planet Name: Earth\n",
      "Gravity on  Moon: 1.6199999999999999 +  m/s2\n",
      " \n",
      "\n"
     ]
    }
   ],
   "source": [
    "plan = f\"\"\"{titulo.title()} \n",
    "{plan} \n",
    "\"\"\" \n",
    "print(plan)"
   ]
  },
  {
   "cell_type": "code",
   "execution_count": 97,
   "metadata": {},
   "outputs": [
    {
     "name": "stdout",
     "output_type": "stream",
     "text": [
      "Gravity Facts About: Moon \n",
      "Gravity Facts About: Moon \n",
      "Gravity Facts About: Moon \n",
      "Gravity Facts About: Moon \n",
      " --------------------------------------------------------------------------------\n",
      "Planet Name: Earth\n",
      "Gravity on  Moon: 1.6199999999999999 +  m/s2\n",
      " \n",
      " \n",
      " \n",
      " \n",
      "\n"
     ]
    }
   ],
   "source": [
    "planet = 'Marte '\n",
    "gravity  = 0.00143\n",
    "name = 'Ganímedes'\n",
    "\n",
    "plan = f\"\"\"{titulo.title()} \n",
    "{plan} \n",
    "\"\"\" \n",
    "print(plan)"
   ]
  },
  {
   "cell_type": "code",
   "execution_count": 98,
   "metadata": {},
   "outputs": [
    {
     "name": "stdout",
     "output_type": "stream",
     "text": [
      "\n",
      "Gravity Facts About:: Ganímedes\n",
      "-------------------------------------------------------------------------------\n",
      "\n",
      "Planet Name: Marte \n",
      "Gravity on  Ganímedes:  1.4300000000000002  m/s2\n",
      "\n",
      "\n"
     ]
    }
   ],
   "source": [
    "new_plan = \"\"\"\n",
    "Gravity Facts About:: {name}\n",
    "-------------------------------------------------------------------------------\n",
    "\\nPlanet Name: {planet}\\nGravity on  {name}:  {gravity}  m/s2\n",
    "\n",
    "\"\"\"\n",
    "print(new_plan.format(name=name, planet=planet, gravity=gravity*1000))"
   ]
  }
 ],
 "metadata": {
  "interpreter": {
   "hash": "4b365654457b7681614b50e4af590f6b05e7cc59309633532bb21cdd5526222b"
  },
  "kernelspec": {
   "display_name": "Python 3.10.2 64-bit (windows store)",
   "language": "python",
   "name": "python3"
  },
  "language_info": {
   "codemirror_mode": {
    "name": "ipython",
    "version": 3
   },
   "file_extension": ".py",
   "mimetype": "text/x-python",
   "name": "python",
   "nbconvert_exporter": "python",
   "pygments_lexer": "ipython3",
   "version": "3.10.2"
  },
  "orig_nbformat": 4
 },
 "nbformat": 4,
 "nbformat_minor": 2
}
